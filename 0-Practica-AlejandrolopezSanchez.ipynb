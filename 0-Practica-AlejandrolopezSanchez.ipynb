{
 "cells": [
  {
   "cell_type": "markdown",
   "metadata": {},
   "source": [
    "Vasmos a cargar el dataset de AirBnB descargado de [aquí](https://public.opendatasoft.com/explore/dataset/airbnb-listings/export/?disjunctive.host_verifications&disjunctive.amenities&disjunctive.features&q=Madrid&dataChart=eyJxdWVyaWVzIjpbeyJjaGFydHMiOlt7InR5cGUiOiJjb2x1bW4iLCJmdW5jIjoiQ09VTlQiLCJ5QXhpcyI6Imhvc3RfbGlzdGluZ3NfY291bnQiLCJzY2llbnRpZmljRGlzcGxheSI6dHJ1ZSwiY29sb3IiOiJyYW5nZS1jdXN0b20ifV0sInhBeGlzIjoiY2l0eSIsIm1heHBvaW50cyI6IiIsInRpbWVzY2FsZSI6IiIsInNvcnQiOiIiLCJzZXJpZXNCcmVha2Rvd24iOiJyb29tX3R5cGUiLCJjb25maWciOnsiZGF0YXNldCI6ImFpcmJuYi1saXN0aW5ncyIsIm9wdGlvbnMiOnsiZGlzanVuY3RpdmUuaG9zdF92ZXJpZmljYXRpb25zIjp0cnVlLCJkaXNqdW5jdGl2ZS5hbWVuaXRpZXMiOnRydWUsImRpc2p1bmN0aXZlLmZlYXR1cmVzIjp0cnVlfX19XSwidGltZXNjYWxlIjoiIiwiZGlzcGxheUxlZ2VuZCI6dHJ1ZSwiYWxpZ25Nb250aCI6dHJ1ZX0%3D&location=16,41.38377,2.15774&basemap=jawg.streets)\n",
    "\n",
    "![](img/descargar.png)"
   ]
  },
  {
   "cell_type": "code",
   "execution_count": null,
   "metadata": {},
   "outputs": [],
   "source": [
    "airbnb<-read.csv('airbnb-listings.csv',sep = ';')\n",
    "options(repr.plot.height=4,repr.plot.width=6,repr.plot.res = 300)"
   ]
  },
  {
   "cell_type": "markdown",
   "metadata": {},
   "source": [
    "Vamos a quedarnos con las columnas de mayor interés:\n",
    "\n",
    "'City','Room.Type','Neighbourhood','Accommodates','Bathrooms','Bedrooms','Beds','Price','Square.Feet','Guests.Included','Extra.People','Review.Scores.Rating','Latitude', 'Longitude'"
   ]
  },
  {
   "cell_type": "code",
   "execution_count": null,
   "metadata": {},
   "outputs": [],
   "source": [
    "airbnb <- subset(airbnb, \n",
    "                 select = c('City','Room.Type','Neighbourhood','Accommodates','Bathrooms','Bedrooms',\n",
    "                            'Beds','Price','Square.Feet','Guests.Included',\n",
    "                            'Extra.People','Review.Scores.Rating','Latitude', 'Longitude'))"
   ]
  },
  {
   "cell_type": "markdown",
   "metadata": {},
   "source": [
    "Nos quedarmos solo con las entradas de Madrid para Room.Type==\"Entire home/apt\" y cuyo barrio (Neighbourhood) no está vacio ''\n",
    "Podemos eliminar las siguientes columnas que ya no son necesarias:\n",
    "\"Room.Type\",'City'\n",
    "\n",
    "Llama a nuevo dataframe df_madrid."
   ]
  },
  {
   "cell_type": "code",
   "execution_count": null,
   "metadata": {},
   "outputs": [],
   "source": [
    "df_madrid <- airbnb[airbnb$City==\"Madrid\" & airbnb$Room.Type==\"Entire home/apt\" & airbnb$Neighbourhood != \"\",]\n",
    "df_madrid$Square.Meters <- round(df_madrid$Square.Feet * 0.092903)\n",
    "df_madrid$Room.Type <- NULL\n",
    "df_madrid$City <- NULL"
   ]
  },
  {
   "cell_type": "markdown",
   "metadata": {},
   "source": [
    "¿Que porcentaje de los apartamentos no muestran los metros cuadrados? Es decir, ¿cuantos tienen NA en Square.Meters?"
   ]
  },
  {
   "cell_type": "code",
   "execution_count": null,
   "metadata": {},
   "outputs": [],
   "source": [
    "print(paste(\"El número total de entradas es:\", nrow(df_madrid)))\n",
    "print(paste(\"El número de entradas sin metros es:\", nrow(df_madrid[is.na(df_madrid$Square.Meters),])))\n",
    "print(paste(\"El porcentaje de entradas sin metros es: \",\n",
    "            round(nrow(df_madrid[is.na(df_madrid$Square.Meters),])/nrow(df_madrid)*100, 2),\"%\"))"
   ]
  },
  {
   "cell_type": "markdown",
   "metadata": {},
   "source": [
    "De todos los apartamentos que tienen un valor de metros cuadrados diferente de NA \n",
    "¿Que porcentaje de los apartamentos tienen 0 metros cuadrados?"
   ]
  },
  {
   "cell_type": "code",
   "execution_count": null,
   "metadata": {},
   "outputs": [],
   "source": [
    "num_zero_sqmeters <- nrow(df_madrid[!is.na(df_madrid$Square.Meters) & df_madrid$Square.Meters == 0,])\n",
    "num_with_sqmeters <- nrow(df_madrid[!is.na(df_madrid$Square.Meters),])\n",
    "print(paste(\"El número total de apartamentos con metros cuadrados diferentes de NA es:\", num_with_sqmeters))\n",
    "print(paste(\"El número de de apartamentos con 0 metros es:\", num_zero_sqmeters))\n",
    "print(paste(\"El porcentaje de apartamentos con 0 metros es:\", round(num_zero_sqmeters/num_with_sqmeters*100,2),\"%\"))"
   ]
  },
  {
   "cell_type": "markdown",
   "metadata": {},
   "source": [
    "Reemplazar todos los 0m^2 por NA "
   ]
  },
  {
   "cell_type": "code",
   "execution_count": null,
   "metadata": {},
   "outputs": [],
   "source": [
    "df_madrid$Square.Meters[!is.na(df_madrid$Square.Meters) & df_madrid$Square.Meters == 0] <- NA"
   ]
  },
  {
   "cell_type": "markdown",
   "metadata": {},
   "source": [
    "Son muchos, vamos a intentar crear un modelo que nos prediga cuantos son los metros cuadrados en función del resto de variables para tratar de rellenar esos NA."
   ]
  },
  {
   "cell_type": "markdown",
   "metadata": {},
   "source": [
    "Antes de eso deberíamos pintar el histograma de los metros cuadrados y ver si tenemos que filtrar algún elemento más."
   ]
  },
  {
   "cell_type": "code",
   "execution_count": null,
   "metadata": {},
   "outputs": [],
   "source": [
    "library(ggplot2)\n",
    "ggplot(data=df_madrid, aes(x=Square.Meters))+\n",
    "geom_histogram(bins=30, fill=\"#5ddd92\", color=\"#446d32\")+\n",
    "xlab(\"Metros Cuadrados\")"
   ]
  },
  {
   "cell_type": "markdown",
   "metadata": {},
   "source": [
    "Asigna el valor NA a la columna Square.Meters de los apartamentos que tengan menos de 20 m^2"
   ]
  },
  {
   "cell_type": "code",
   "execution_count": null,
   "metadata": {},
   "outputs": [],
   "source": [
    "# He optado por asignar NA a los menores de 25m2 porque obtenía mejor cluster y predict\n",
    "df_madrid$Square.Meters[!is.na(df_madrid$Square.Meters) & df_madrid$Square.Meters < 25] <- NA"
   ]
  },
  {
   "cell_type": "code",
   "execution_count": null,
   "metadata": {},
   "outputs": [],
   "source": [
    "library(ggplot2)\n",
    "ggplot(data=df_madrid, aes(x=Square.Meters))+\n",
    "geom_histogram(bins=30, fill=\"#5ddd92\", color=\"#446d32\")+\n",
    "xlab(\"Metros Cuadrados\")"
   ]
  },
  {
   "cell_type": "markdown",
   "metadata": {},
   "source": [
    "El barrio parece ser un indicador importante para los metros cuadrados de un apartamento.\n",
    "\n",
    "Vamos a agrupar los barrios por metros cuadrados. Podemos usar una matriz de similaridad de Tukey tal y como hicimos en el curso de estadística:"
   ]
  },
  {
   "cell_type": "code",
   "execution_count": null,
   "metadata": {},
   "outputs": [],
   "source": [
    "tky<-TukeyHSD(aov( formula=Square.Meters~Neighbourhood, data=df_madrid ))\n",
    "tky.result<-data.frame(tky$Neighbourhood)\n",
    "cn <-sort(unique(df_madrid$Neighbourhood))\n",
    "resm <- matrix(NA, length(cn),length(cn))\n",
    "rownames(resm) <- cn\n",
    "colnames(resm) <- cn\n",
    "resm[lower.tri(resm) ] <- round(tky.result$p.adj,4)\n",
    "resm[upper.tri(resm) ] <- t(resm)[upper.tri(resm)] \n",
    "diag(resm) <- 1\n",
    "library(ggplot2)\n",
    "library(reshape2)\n",
    "dfResm <- melt(resm)\n",
    "ggplot(dfResm, aes(x=Var1, y=Var2, fill=value))+\n",
    "  geom_tile(colour = \"black\")+\n",
    "  scale_fill_gradient(low = \"white\",high = \"steelblue\")+\n",
    "  ylab(\"Class\")+xlab(\"Class\")+theme_bw()+\n",
    "  theme(axis.text.x = element_text(angle = 90, hjust = 1),legend.position=\"none\")"
   ]
  },
  {
   "cell_type": "markdown",
   "metadata": {},
   "source": [
    "Usando como variable de distancia: 1-resm\n",
    "Dibuja un dendrograma de los diferentes barrios.\n"
   ]
  },
  {
   "cell_type": "code",
   "execution_count": null,
   "metadata": {},
   "outputs": [],
   "source": [
    "library(dendextend)\n",
    "options(repr.plot.height=4,repr.plot.width=12)\n",
    "d <- as.dist(1 - resm)\n",
    "hc <- hclust(d,method=\"complete\")\n",
    "hcd <- as.dendrogram(hc)\n",
    "plot(color_branches(hcd))"
   ]
  },
  {
   "cell_type": "markdown",
   "metadata": {},
   "source": [
    "Estableciendo un punto de corte en 0.9, ¿cuantos clusters aparecen?"
   ]
  },
  {
   "cell_type": "code",
   "execution_count": null,
   "metadata": {},
   "outputs": [],
   "source": [
    "options(repr.plot.height=6,repr.plot.width=12)\n",
    "plot(color_branches(hcd,h=0.9))\n",
    "ncluster <- rect.hclust(hc, h=0.9)\n",
    "print(paste(\"Número de clusters: \", length(ncluster)))"
   ]
  },
  {
   "cell_type": "markdown",
   "metadata": {},
   "source": [
    "Vamos a crear una nueva columna en el dataframe df_madrid con un nuevo identificador marcado por los clusters obtenidos. Esta columna la llamaremos neighb_id"
   ]
  },
  {
   "cell_type": "code",
   "execution_count": null,
   "metadata": {},
   "outputs": [],
   "source": [
    "cluster <- as.factor(cutree(hc,h=0.9))\n",
    "df_madrid$neighb_id <- cluster[df_madrid$Neighbourhood]\n",
    "str(df_madrid)"
   ]
  },
  {
   "cell_type": "markdown",
   "metadata": {},
   "source": [
    "Vamos a crear dos grupos, uno test y otro train.\n",
    "\n",
    "Tratamos de predecir los metros cuadrados en función del resto de columnas del dataframe."
   ]
  },
  {
   "cell_type": "code",
   "execution_count": null,
   "metadata": {},
   "outputs": [],
   "source": [
    "set.seed(1234)\n",
    "idx <- sample(1:nrow(df_madrid),nrow(df_madrid)*0.7)\n",
    "df_madrid_train <- df_madrid[idx,]\n",
    "df_madrid_test <- df_madrid[-idx,]\n",
    "paste(\"Número de muestras training:\",nrow(df_madrid_train))\n",
    "paste(\"Número de muestras testing:\",nrow(df_madrid_test))"
   ]
  },
  {
   "cell_type": "code",
   "execution_count": null,
   "metadata": {},
   "outputs": [],
   "source": [
    "# Probamos diferentes modelos\n",
    "#Modelo_1\n",
    "model_df_madrid<-lm(Square.Meters~Accommodates+Bedrooms+Bathrooms+Beds+Price+neighb_id,data=df_madrid_train)\n",
    "summary(model_df_madrid)"
   ]
  },
  {
   "cell_type": "code",
   "execution_count": null,
   "metadata": {},
   "outputs": [],
   "source": [
    "# Modelo_2. Sin Accommodates\n",
    "model_df_madrid<-lm(Square.Meters~Bedrooms+Bathrooms+Beds+Price+neighb_id,data=df_madrid_train)\n",
    "summary(model_df_madrid)"
   ]
  },
  {
   "cell_type": "code",
   "execution_count": null,
   "metadata": {},
   "outputs": [],
   "source": [
    "# Modelo_3. Sin Price \n",
    "model_df_madrid<-lm(Square.Meters~Bedrooms+Bathrooms+Beds+neighb_id,data=df_madrid_train)\n",
    "summary(model_df_madrid)"
   ]
  },
  {
   "cell_type": "code",
   "execution_count": null,
   "metadata": {},
   "outputs": [],
   "source": [
    "# Modelo_4. Sin neighb_id\n",
    "model_df_madrid<-lm(Square.Meters~Bedrooms+Bathrooms+Beds,data=df_madrid_train)\n",
    "summary(model_df_madrid)"
   ]
  },
  {
   "cell_type": "code",
   "execution_count": null,
   "metadata": {},
   "outputs": [],
   "source": [
    "# Finalmente nos quedamos con el modelo_3 que tiene el Adjusted R-squared más alto\n",
    "model_df_madrid<-lm(Square.Meters~Bedrooms+Bathrooms+Beds+neighb_id,data=df_madrid_train)"
   ]
  },
  {
   "cell_type": "code",
   "execution_count": null,
   "metadata": {},
   "outputs": [],
   "source": [
    "df_madrid_test$predict_result<-predict(model_df_madrid, df_madrid_test)"
   ]
  },
  {
   "cell_type": "markdown",
   "metadata": {},
   "source": [
    "Mirad el histograma de los residuos sobre el conjunto de test para evaluar la calidad de vuestro modelo"
   ]
  },
  {
   "cell_type": "code",
   "execution_count": null,
   "metadata": {},
   "outputs": [],
   "source": [
    "options(repr.plot.height=4,repr.plot.width=6,repr.plot.res = 300)\n",
    "hist(df_madrid_test$Square.Meters-df_madrid_test$predict_result,10)\n",
    "qqnorm(df_madrid_test$Square.Meters-df_madrid_test$predict_result)\n",
    "qqline(df_madrid_test$Square.Meters-df_madrid_test$predict_result, col = 'orange', lwd =2)"
   ]
  },
  {
   "cell_type": "code",
   "execution_count": null,
   "metadata": {},
   "outputs": [],
   "source": [
    "mean_sqerror <- sqrt(mean((df_madrid_test$Square.Meters-df_madrid_test$predict_result)^2,na.rm = TRUE))\n",
    "paste(\"El error cuadrático medio es:\",round(mean_sqerror,2))"
   ]
  },
  {
   "cell_type": "markdown",
   "metadata": {},
   "source": [
    "Si tuvieramos un anuncio de un apartamento para 6 personas (Accommodates) con un precio de 80€/noche y 3 habitaciones en el barrio de Sol.\n",
    "¿Cuantos metros cuadrados tendría?\n",
    "¿Como varía sus metros cuadrados con cada habitación adicional?"
   ]
  },
  {
   "cell_type": "code",
   "execution_count": null,
   "metadata": {},
   "outputs": [],
   "source": [
    "df_apartment <- data.frame(\n",
    "    \"Accommodates\" = 6,\n",
    "    \"Price\" = 80,\n",
    "    \"Bedrooms\" = 3,\n",
    "    \"Neighbourhood\" = \"Sol\",\n",
    "    \"Bathrooms\" = 1,\n",
    "    \"Beds\" = 5,\n",
    "    \"neighb_id\" = as.factor(7)\n",
    ")"
   ]
  },
  {
   "cell_type": "code",
   "execution_count": null,
   "metadata": {},
   "outputs": [],
   "source": [
    "pr_meters_1 <- predict(model_df_madrid, df_apartment, na.action = na.pass)\n",
    "paste(\"La predicción de metros es:\", round(pr_meters_1,2))"
   ]
  },
  {
   "cell_type": "code",
   "execution_count": null,
   "metadata": {},
   "outputs": [],
   "source": [
    "paste(\"Por cada habitación adicional los metros suben:\",round(model_df_madrid$coefficients[\"Bedrooms\"],2))"
   ]
  },
  {
   "cell_type": "code",
   "execution_count": null,
   "metadata": {},
   "outputs": [],
   "source": [
    "# Comprobamos que es así aplicando el modelo a un apartamento con una habitación más\n",
    "df_apartment <- data.frame(\n",
    "    \"Accommodates\" = 6,\n",
    "    \"Price\" = 80,\n",
    "    \"Bedrooms\" = 4,\n",
    "    \"Neighbourhood\" = \"Sol\",\n",
    "    \"Bathrooms\" = 1,\n",
    "    \"Beds\" = 5,\n",
    "    \"neighb_id\" = as.factor(7)\n",
    ")\n",
    "pr_meters_2 <- predict(model_df_madrid, df_apartment, na.action = na.pass)\n",
    "paste(\"La diferencia entre la primera predicción y la segunda es:\",round(pr_meters_2-pr_meters_1,2))"
   ]
  },
  {
   "cell_type": "markdown",
   "metadata": {},
   "source": [
    "Rellenar los Square.Meters con valor NA con el estimado con el modelo anterior."
   ]
  },
  {
   "cell_type": "code",
   "execution_count": null,
   "metadata": {},
   "outputs": [],
   "source": [
    "df_madrid$Predict.Meters <- predict(model_df_madrid, df_madrid)\n",
    "index <- which(is.na(df_madrid$Square.Meters))\n",
    "df_madrid$Square.Meters[index] <- df_madrid$Predict.Meters[index]\n",
    "df_madrid$Square.Meters[df_madrid$Square.Meters<25] <- NA\n",
    "head(df_madrid)"
   ]
  },
  {
   "cell_type": "markdown",
   "metadata": {},
   "source": [
    "Usar PCA para encontrar el apartamento más cercano a uno dado.\n",
    "\n",
    "Este algoritmo nos ayudaría a dado un apartamento que el algoritmo nos devolvería los 5 apartamentos más similares.\n",
    "\n",
    "\n",
    "Crearemos una función tal que le pasemos un apartamento con los siguientes datos:\n",
    "* Accommodates\t\n",
    "* Bathrooms\t\n",
    "* Bedrooms\t\n",
    "* Beds\t\n",
    "* Price\t\n",
    "* Guests.Included\t\n",
    "* Extra.People\t\n",
    "* Review.Scores.Rating\t\n",
    "* Latitude\t\n",
    "* Longitude\t\n",
    "* Square.Meters\n",
    "\n",
    "y nos devuelva los 5 más similares de:"
   ]
  },
  {
   "cell_type": "code",
   "execution_count": null,
   "metadata": {},
   "outputs": [],
   "source": [
    "# Creamos un sub dataframe con las columnas numéricas y quitamos las filas con NA\n",
    "df_sub_madrid <- subset(df_madrid, \n",
    "                 select = c('Accommodates','Bathrooms','Bedrooms','Beds','Price','Guests.Included',\n",
    "                            'Extra.People','Review.Scores.Rating','Latitude', 'Longitude', 'Square.Meters'))\n",
    "df_sub_madrid <- na.omit(df_sub_madrid)\n",
    "\n",
    "# Creamos el apartamento del que queremos buscar los mas parecidos, cogiémdolo del propio dataframe\n",
    "df_apartment <- df_sub_madrid[78,c('Accommodates','Bathrooms','Bedrooms','Beds','Price','Guests.Included',\n",
    "                            'Extra.People','Review.Scores.Rating','Latitude', 'Longitude', 'Square.Meters')]\n",
    "df_apartment"
   ]
  },
  {
   "cell_type": "code",
   "execution_count": null,
   "metadata": {},
   "outputs": [],
   "source": [
    "# Función que devuelve los 5 apartamentos más parecidos\n",
    "# Le pasamos el dataframe limpio de NA, el item que queremos comparar\n",
    "most_similar_apts <- function(df_complete, new_item, num_items=5){\n",
    "    pr_apt <- prcomp(df_complete,center = TRUE, scale. = TRUE)\n",
    "    t_apt <- predict(pr_apt, newdata = new_item)\n",
    "    dist<-rowSums((t_apt[rep(1, times = nrow(pr_apt$x)), ]-pr_apt$x)^2)\n",
    "    df_complete[order(dist)[1:num_items],]\n",
    "}"
   ]
  },
  {
   "cell_type": "code",
   "execution_count": null,
   "metadata": {},
   "outputs": [],
   "source": [
    "most_similar_apts(df_sub_madrid, df_apartment)"
   ]
  },
  {
   "cell_type": "markdown",
   "metadata": {},
   "source": [
    "**Podemos observar como la primera aparición es el propio apartamento que estaba en el dataframe y luego las cuatro mas similares.**"
   ]
  },
  {
   "cell_type": "markdown",
   "metadata": {},
   "source": [
    "Bonus: ¿de todas las coordenadas PCA cual es la que mejor permite clasificar por id de barrio?\n",
    "\n",
    "¿Por qué?"
   ]
  },
  {
   "cell_type": "code",
   "execution_count": null,
   "metadata": {},
   "outputs": [],
   "source": [
    "pr_apt <- prcomp(df_sub_madrid,center = TRUE, scale. = TRUE)"
   ]
  },
  {
   "cell_type": "code",
   "execution_count": null,
   "metadata": {},
   "outputs": [],
   "source": [
    "pr_apt$x"
   ]
  },
  {
   "cell_type": "code",
   "execution_count": null,
   "metadata": {},
   "outputs": [],
   "source": []
  },
  {
   "cell_type": "code",
   "execution_count": null,
   "metadata": {},
   "outputs": [],
   "source": []
  },
  {
   "cell_type": "code",
   "execution_count": null,
   "metadata": {},
   "outputs": [],
   "source": []
  }
 ],
 "metadata": {
  "kernelspec": {
   "display_name": "R",
   "language": "R",
   "name": "ir"
  },
  "language_info": {
   "codemirror_mode": "r",
   "file_extension": ".r",
   "mimetype": "text/x-r-source",
   "name": "R",
   "pygments_lexer": "r",
   "version": "4.0.0"
  }
 },
 "nbformat": 4,
 "nbformat_minor": 2
}
